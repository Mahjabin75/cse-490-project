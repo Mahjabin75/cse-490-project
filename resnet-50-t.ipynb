{
 "cells": [
  {
   "cell_type": "code",
   "execution_count": 1,
   "id": "bb477b96",
   "metadata": {
    "_cell_guid": "b1076dfc-b9ad-4769-8c92-a6c4dae69d19",
    "_uuid": "8f2839f25d086af736a60e9eeb907d3b93b6e0e5",
    "execution": {
     "iopub.execute_input": "2024-01-03T14:22:02.513855Z",
     "iopub.status.busy": "2024-01-03T14:22:02.512674Z",
     "iopub.status.idle": "2024-01-03T14:22:18.586625Z",
     "shell.execute_reply": "2024-01-03T14:22:18.585749Z"
    },
    "papermill": {
     "duration": 16.094869,
     "end_time": "2024-01-03T14:22:18.589076",
     "exception": false,
     "start_time": "2024-01-03T14:22:02.494207",
     "status": "completed"
    },
    "tags": []
   },
   "outputs": [],
   "source": [
    "# This Python 3 environment comes with many helpful analytics libraries installed\n",
    "# It is defined by the kaggle/python Docker image: https://github.com/kaggle/docker-python\n",
    "# For example, here's several helpful packages to load\n",
    "\n",
    "import numpy as np # linear algebra\n",
    "import pandas as pd # data processing, CSV file I/O (e.g. pd.read_csv)\n",
    "\n",
    "# Input data files are available in the read-only \"../input/\" directory\n",
    "# For example, running this (by clicking run or pressing Shift+Enter) will list all files under the input directory\n",
    "\n",
    "import os\n",
    "for dirname, _, filenames in os.walk('/kaggle/input'):\n",
    "    for filename in filenames:\n",
    "        pass\n",
    "#         print(os.path.join(dirname, filename))\n",
    "\n",
    "# You can write up to 20GB to the current directory (/kaggle/working/) that gets preserved as output when you create a version using \"Save & Run All\" \n",
    "# You can also write temporary files to /kaggle/temp/, but they won't be saved outside of the current session"
   ]
  },
  {
   "cell_type": "code",
   "execution_count": 2,
   "id": "47fc978a",
   "metadata": {
    "execution": {
     "iopub.execute_input": "2024-01-03T14:22:18.622119Z",
     "iopub.status.busy": "2024-01-03T14:22:18.621795Z",
     "iopub.status.idle": "2024-01-03T14:22:18.625679Z",
     "shell.execute_reply": "2024-01-03T14:22:18.624836Z"
    },
    "papermill": {
     "duration": 0.021927,
     "end_time": "2024-01-03T14:22:18.627759",
     "exception": false,
     "start_time": "2024-01-03T14:22:18.605832",
     "status": "completed"
    },
    "tags": []
   },
   "outputs": [],
   "source": [
    "import os"
   ]
  },
  {
   "cell_type": "code",
   "execution_count": 3,
   "id": "73f99830",
   "metadata": {
    "execution": {
     "iopub.execute_input": "2024-01-03T14:22:18.656980Z",
     "iopub.status.busy": "2024-01-03T14:22:18.656706Z",
     "iopub.status.idle": "2024-01-03T14:22:18.660626Z",
     "shell.execute_reply": "2024-01-03T14:22:18.659843Z"
    },
    "papermill": {
     "duration": 0.020521,
     "end_time": "2024-01-03T14:22:18.662493",
     "exception": false,
     "start_time": "2024-01-03T14:22:18.641972",
     "status": "completed"
    },
    "tags": []
   },
   "outputs": [],
   "source": [
    "# os.makedirs(\"100img\", exist_ok=True)"
   ]
  },
  {
   "cell_type": "code",
   "execution_count": 4,
   "id": "9db656f2",
   "metadata": {
    "execution": {
     "iopub.execute_input": "2024-01-03T14:22:18.695713Z",
     "iopub.status.busy": "2024-01-03T14:22:18.695434Z",
     "iopub.status.idle": "2024-01-03T14:22:22.938841Z",
     "shell.execute_reply": "2024-01-03T14:22:22.937990Z"
    },
    "papermill": {
     "duration": 4.26458,
     "end_time": "2024-01-03T14:22:22.941402",
     "exception": false,
     "start_time": "2024-01-03T14:22:18.676822",
     "status": "completed"
    },
    "tags": []
   },
   "outputs": [],
   "source": [
    "import torch\n",
    "import torch.nn as nn\n",
    "import torch.optim as optim\n",
    "from torchvision import datasets, models, transforms\n",
    "\n",
    "\n",
    "import warnings\n",
    "warnings.filterwarnings('ignore')"
   ]
  },
  {
   "cell_type": "code",
   "execution_count": 5,
   "id": "2112ca34",
   "metadata": {
    "execution": {
     "iopub.execute_input": "2024-01-03T14:22:22.974913Z",
     "iopub.status.busy": "2024-01-03T14:22:22.974337Z",
     "iopub.status.idle": "2024-01-03T14:22:23.076548Z",
     "shell.execute_reply": "2024-01-03T14:22:23.075578Z"
    },
    "papermill": {
     "duration": 0.121371,
     "end_time": "2024-01-03T14:22:23.078850",
     "exception": false,
     "start_time": "2024-01-03T14:22:22.957479",
     "status": "completed"
    },
    "tags": []
   },
   "outputs": [
    {
     "data": {
      "text/plain": [
       "device(type='cuda', index=0)"
      ]
     },
     "execution_count": 5,
     "metadata": {},
     "output_type": "execute_result"
    }
   ],
   "source": [
    "device = torch.device(\"cuda:0\" if torch.cuda.is_available() else \"cpu\")\n",
    "device"
   ]
  },
  {
   "cell_type": "code",
   "execution_count": 6,
   "id": "342a2640",
   "metadata": {
    "execution": {
     "iopub.execute_input": "2024-01-03T14:22:23.112872Z",
     "iopub.status.busy": "2024-01-03T14:22:23.112529Z",
     "iopub.status.idle": "2024-01-03T14:22:23.116883Z",
     "shell.execute_reply": "2024-01-03T14:22:23.115946Z"
    },
    "papermill": {
     "duration": 0.023527,
     "end_time": "2024-01-03T14:22:23.119052",
     "exception": false,
     "start_time": "2024-01-03T14:22:23.095525",
     "status": "completed"
    },
    "tags": []
   },
   "outputs": [],
   "source": [
    "import os"
   ]
  },
  {
   "cell_type": "code",
   "execution_count": null,
   "id": "f548be28",
   "metadata": {
    "papermill": {
     "duration": 0.016271,
     "end_time": "2024-01-03T14:22:23.151022",
     "exception": false,
     "start_time": "2024-01-03T14:22:23.134751",
     "status": "completed"
    },
    "tags": []
   },
   "outputs": [],
   "source": []
  },
  {
   "cell_type": "code",
   "execution_count": 7,
   "id": "97c01a65",
   "metadata": {
    "execution": {
     "iopub.execute_input": "2024-01-03T14:22:23.184836Z",
     "iopub.status.busy": "2024-01-03T14:22:23.184209Z",
     "iopub.status.idle": "2024-01-03T14:22:24.203814Z",
     "shell.execute_reply": "2024-01-03T14:22:24.202975Z"
    },
    "papermill": {
     "duration": 1.03938,
     "end_time": "2024-01-03T14:22:24.206382",
     "exception": false,
     "start_time": "2024-01-03T14:22:23.167002",
     "status": "completed"
    },
    "tags": []
   },
   "outputs": [],
   "source": [
    "import os\n",
    "\n",
    "import pandas as  pd\n",
    "import numpy as np\n",
    "import matplotlib.pyplot as plt\n",
    "from sklearn import preprocessing\n",
    "import torch\n",
    "import torchvision\n",
    "from torchvision import transforms\n",
    "from torchvision.datasets import ImageFolder\n",
    "\n",
    "\n",
    "# extra utility\n",
    "from PIL import Image\n",
    "from IPython import display\n",
    "\n",
    "import warnings\n",
    "warnings.filterwarnings('ignore')"
   ]
  },
  {
   "cell_type": "code",
   "execution_count": 8,
   "id": "b7d6dc85",
   "metadata": {
    "execution": {
     "iopub.execute_input": "2024-01-03T14:22:24.240543Z",
     "iopub.status.busy": "2024-01-03T14:22:24.240142Z",
     "iopub.status.idle": "2024-01-03T14:22:24.292659Z",
     "shell.execute_reply": "2024-01-03T14:22:24.291620Z"
    },
    "papermill": {
     "duration": 0.072012,
     "end_time": "2024-01-03T14:22:24.295089",
     "exception": false,
     "start_time": "2024-01-03T14:22:24.223077",
     "status": "completed"
    },
    "tags": []
   },
   "outputs": [
    {
     "data": {
      "text/plain": [
       "Index(['Latitude', 'Longitude'], dtype='object')"
      ]
     },
     "execution_count": 8,
     "metadata": {},
     "output_type": "execute_result"
    }
   ],
   "source": [
    "cords = pd.read_csv('/kaggle/input/city-street-view-dataset/picture_coords.csv',names=['Latitude','Longitude'])\n",
    "cords.columns"
   ]
  },
  {
   "cell_type": "code",
   "execution_count": 9,
   "id": "c22a6c62",
   "metadata": {
    "execution": {
     "iopub.execute_input": "2024-01-03T14:22:24.330060Z",
     "iopub.status.busy": "2024-01-03T14:22:24.329669Z",
     "iopub.status.idle": "2024-01-03T14:22:24.336002Z",
     "shell.execute_reply": "2024-01-03T14:22:24.335046Z"
    },
    "papermill": {
     "duration": 0.026072,
     "end_time": "2024-01-03T14:22:24.338129",
     "exception": false,
     "start_time": "2024-01-03T14:22:24.312057",
     "status": "completed"
    },
    "tags": []
   },
   "outputs": [
    {
     "data": {
      "text/plain": [
       "(48953, 2)"
      ]
     },
     "execution_count": 9,
     "metadata": {},
     "output_type": "execute_result"
    }
   ],
   "source": [
    "cords.shape"
   ]
  },
  {
   "cell_type": "code",
   "execution_count": 10,
   "id": "744a8e2a",
   "metadata": {
    "execution": {
     "iopub.execute_input": "2024-01-03T14:22:24.369863Z",
     "iopub.status.busy": "2024-01-03T14:22:24.369577Z",
     "iopub.status.idle": "2024-01-03T14:22:24.445164Z",
     "shell.execute_reply": "2024-01-03T14:22:24.444140Z"
    },
    "papermill": {
     "duration": 0.093568,
     "end_time": "2024-01-03T14:22:24.447596",
     "exception": false,
     "start_time": "2024-01-03T14:22:24.354028",
     "status": "completed"
    },
    "tags": []
   },
   "outputs": [
    {
     "data": {
      "text/html": [
       "<div>\n",
       "<style scoped>\n",
       "    .dataframe tbody tr th:only-of-type {\n",
       "        vertical-align: middle;\n",
       "    }\n",
       "\n",
       "    .dataframe tbody tr th {\n",
       "        vertical-align: top;\n",
       "    }\n",
       "\n",
       "    .dataframe thead th {\n",
       "        text-align: right;\n",
       "    }\n",
       "</style>\n",
       "<table border=\"1\" class=\"dataframe\">\n",
       "  <thead>\n",
       "    <tr style=\"text-align: right;\">\n",
       "      <th></th>\n",
       "      <th>file_name</th>\n",
       "      <th>City</th>\n",
       "    </tr>\n",
       "  </thead>\n",
       "  <tbody>\n",
       "    <tr>\n",
       "      <th>0</th>\n",
       "      <td>street_view_0.jpg</td>\n",
       "      <td>city-of-new-york</td>\n",
       "    </tr>\n",
       "    <tr>\n",
       "      <th>1</th>\n",
       "      <td>street_view_1.jpg</td>\n",
       "      <td>washington</td>\n",
       "    </tr>\n",
       "    <tr>\n",
       "      <th>2</th>\n",
       "      <td>street_view_2.jpg</td>\n",
       "      <td>detroit</td>\n",
       "    </tr>\n",
       "    <tr>\n",
       "      <th>3</th>\n",
       "      <td>street_view_3.jpg</td>\n",
       "      <td>san-francisco</td>\n",
       "    </tr>\n",
       "    <tr>\n",
       "      <th>4</th>\n",
       "      <td>street_view_4.jpg</td>\n",
       "      <td>chicago</td>\n",
       "    </tr>\n",
       "    <tr>\n",
       "      <th>...</th>\n",
       "      <td>...</td>\n",
       "      <td>...</td>\n",
       "    </tr>\n",
       "    <tr>\n",
       "      <th>48948</th>\n",
       "      <td>street_view_48948.jpg</td>\n",
       "      <td>city-of-new-york</td>\n",
       "    </tr>\n",
       "    <tr>\n",
       "      <th>48949</th>\n",
       "      <td>street_view_48949.jpg</td>\n",
       "      <td>city-of-new-york</td>\n",
       "    </tr>\n",
       "    <tr>\n",
       "      <th>48950</th>\n",
       "      <td>street_view_48950.jpg</td>\n",
       "      <td>chicago</td>\n",
       "    </tr>\n",
       "    <tr>\n",
       "      <th>48951</th>\n",
       "      <td>street_view_48951.jpg</td>\n",
       "      <td>city-of-new-york</td>\n",
       "    </tr>\n",
       "    <tr>\n",
       "      <th>48952</th>\n",
       "      <td>street_view_48952.jpg</td>\n",
       "      <td>detroit</td>\n",
       "    </tr>\n",
       "  </tbody>\n",
       "</table>\n",
       "<p>48953 rows × 2 columns</p>\n",
       "</div>"
      ],
      "text/plain": [
       "                   file_name              City\n",
       "0          street_view_0.jpg  city-of-new-york\n",
       "1          street_view_1.jpg        washington\n",
       "2          street_view_2.jpg           detroit\n",
       "3          street_view_3.jpg     san-francisco\n",
       "4          street_view_4.jpg           chicago\n",
       "...                      ...               ...\n",
       "48948  street_view_48948.jpg  city-of-new-york\n",
       "48949  street_view_48949.jpg  city-of-new-york\n",
       "48950  street_view_48950.jpg           chicago\n",
       "48951  street_view_48951.jpg  city-of-new-york\n",
       "48952  street_view_48952.jpg           detroit\n",
       "\n",
       "[48953 rows x 2 columns]"
      ]
     },
     "execution_count": 10,
     "metadata": {},
     "output_type": "execute_result"
    }
   ],
   "source": [
    "labels = pd.read_csv('/kaggle/input/labels/labels.csv',names=['file_name','City'])\n",
    "labels"
   ]
  },
  {
   "cell_type": "code",
   "execution_count": 11,
   "id": "6dfaa999",
   "metadata": {
    "execution": {
     "iopub.execute_input": "2024-01-03T14:22:24.482646Z",
     "iopub.status.busy": "2024-01-03T14:22:24.481862Z",
     "iopub.status.idle": "2024-01-03T14:22:24.488100Z",
     "shell.execute_reply": "2024-01-03T14:22:24.487152Z"
    },
    "papermill": {
     "duration": 0.026329,
     "end_time": "2024-01-03T14:22:24.490300",
     "exception": false,
     "start_time": "2024-01-03T14:22:24.463971",
     "status": "completed"
    },
    "tags": []
   },
   "outputs": [
    {
     "data": {
      "text/plain": [
       "(48953, 2)"
      ]
     },
     "execution_count": 11,
     "metadata": {},
     "output_type": "execute_result"
    }
   ],
   "source": [
    "labels.shape"
   ]
  },
  {
   "cell_type": "code",
   "execution_count": 12,
   "id": "0e9e313f",
   "metadata": {
    "execution": {
     "iopub.execute_input": "2024-01-03T14:22:24.524598Z",
     "iopub.status.busy": "2024-01-03T14:22:24.524326Z",
     "iopub.status.idle": "2024-01-03T14:22:24.528318Z",
     "shell.execute_reply": "2024-01-03T14:22:24.527418Z"
    },
    "papermill": {
     "duration": 0.023462,
     "end_time": "2024-01-03T14:22:24.530359",
     "exception": false,
     "start_time": "2024-01-03T14:22:24.506897",
     "status": "completed"
    },
    "tags": []
   },
   "outputs": [],
   "source": [
    "# path data =\n",
    "# /kaggle/input/city-street-view-dataset"
   ]
  },
  {
   "cell_type": "code",
   "execution_count": 13,
   "id": "c3b2e7e7",
   "metadata": {
    "execution": {
     "iopub.execute_input": "2024-01-03T14:22:24.562529Z",
     "iopub.status.busy": "2024-01-03T14:22:24.562254Z",
     "iopub.status.idle": "2024-01-03T14:22:24.772236Z",
     "shell.execute_reply": "2024-01-03T14:22:24.770900Z"
    },
    "papermill": {
     "duration": 0.228499,
     "end_time": "2024-01-03T14:22:24.774641",
     "exception": false,
     "start_time": "2024-01-03T14:22:24.546142",
     "status": "completed"
    },
    "tags": []
   },
   "outputs": [
    {
     "name": "stdout",
     "output_type": "stream",
     "text": [
      "(0, 'street_view_0.jpg')\n",
      "(1, 'street_view_1.jpg')\n",
      "(2, 'street_view_2.jpg')\n",
      "(3, 'street_view_3.jpg')\n",
      "(4, 'street_view_4.jpg')\n",
      "(5, 'street_view_5.jpg')\n",
      "(6, 'street_view_6.jpg')\n",
      "(7, 'street_view_7.jpg')\n",
      "(8, 'street_view_8.jpg')\n",
      "(9, 'street_view_9.jpg')\n"
     ]
    }
   ],
   "source": [
    "file_names = [ ]\n",
    "\n",
    "for f in os.listdir('/kaggle/input/city-street-view-dataset'):\n",
    "    name, ext = os.path.splitext(f)\n",
    "    if ext == '.jpg':\n",
    "        sl = int(name.replace('street_view_',''))\n",
    "        file_names.append((sl,f))\n",
    "\n",
    "# correct way to sort\n",
    "file_names.sort(key=lambda x: x[0])\n",
    "print(*file_names[:10],sep='\\n')"
   ]
  },
  {
   "cell_type": "code",
   "execution_count": 14,
   "id": "0b6aab55",
   "metadata": {
    "execution": {
     "iopub.execute_input": "2024-01-03T14:22:24.809679Z",
     "iopub.status.busy": "2024-01-03T14:22:24.809345Z",
     "iopub.status.idle": "2024-01-03T14:22:24.828326Z",
     "shell.execute_reply": "2024-01-03T14:22:24.827507Z"
    },
    "papermill": {
     "duration": 0.039006,
     "end_time": "2024-01-03T14:22:24.830621",
     "exception": false,
     "start_time": "2024-01-03T14:22:24.791615",
     "status": "completed"
    },
    "tags": []
   },
   "outputs": [],
   "source": [
    "cords['file_name'] = [tup[1] for tup in file_names]\n",
    "cords['City'] = labels['City']"
   ]
  },
  {
   "cell_type": "code",
   "execution_count": null,
   "id": "9776b1d5",
   "metadata": {
    "papermill": {
     "duration": 0.015914,
     "end_time": "2024-01-03T14:22:24.863134",
     "exception": false,
     "start_time": "2024-01-03T14:22:24.847220",
     "status": "completed"
    },
    "tags": []
   },
   "outputs": [],
   "source": []
  },
  {
   "cell_type": "code",
   "execution_count": 15,
   "id": "f63cb624",
   "metadata": {
    "execution": {
     "iopub.execute_input": "2024-01-03T14:22:24.898472Z",
     "iopub.status.busy": "2024-01-03T14:22:24.898117Z",
     "iopub.status.idle": "2024-01-03T14:22:24.927562Z",
     "shell.execute_reply": "2024-01-03T14:22:24.926557Z"
    },
    "papermill": {
     "duration": 0.049397,
     "end_time": "2024-01-03T14:22:24.929575",
     "exception": false,
     "start_time": "2024-01-03T14:22:24.880178",
     "status": "completed"
    },
    "tags": []
   },
   "outputs": [
    {
     "data": {
      "text/plain": [
       "True    True\n",
       "Name: file_name, dtype: bool"
      ]
     },
     "execution_count": 15,
     "metadata": {},
     "output_type": "execute_result"
    }
   ],
   "source": [
    "# all the label are mapped accordingly\n",
    "is_match  = cords['file_name'] == labels['file_name']\n",
    "is_match.value_counts() == len(cords)"
   ]
  },
  {
   "cell_type": "code",
   "execution_count": 16,
   "id": "be8b1543",
   "metadata": {
    "execution": {
     "iopub.execute_input": "2024-01-03T14:22:24.965180Z",
     "iopub.status.busy": "2024-01-03T14:22:24.964456Z",
     "iopub.status.idle": "2024-01-03T14:22:24.986809Z",
     "shell.execute_reply": "2024-01-03T14:22:24.985748Z"
    },
    "papermill": {
     "duration": 0.043385,
     "end_time": "2024-01-03T14:22:24.989485",
     "exception": false,
     "start_time": "2024-01-03T14:22:24.946100",
     "status": "completed"
    },
    "tags": []
   },
   "outputs": [
    {
     "data": {
      "text/html": [
       "<div>\n",
       "<style scoped>\n",
       "    .dataframe tbody tr th:only-of-type {\n",
       "        vertical-align: middle;\n",
       "    }\n",
       "\n",
       "    .dataframe tbody tr th {\n",
       "        vertical-align: top;\n",
       "    }\n",
       "\n",
       "    .dataframe thead th {\n",
       "        text-align: right;\n",
       "    }\n",
       "</style>\n",
       "<table border=\"1\" class=\"dataframe\">\n",
       "  <thead>\n",
       "    <tr style=\"text-align: right;\">\n",
       "      <th></th>\n",
       "      <th>Latitude</th>\n",
       "      <th>Longitude</th>\n",
       "      <th>file_name</th>\n",
       "      <th>City</th>\n",
       "    </tr>\n",
       "  </thead>\n",
       "  <tbody>\n",
       "    <tr>\n",
       "      <th>0</th>\n",
       "      <td>40.864413</td>\n",
       "      <td>-73.893292</td>\n",
       "      <td>street_view_0.jpg</td>\n",
       "      <td>city-of-new-york</td>\n",
       "    </tr>\n",
       "    <tr>\n",
       "      <th>1</th>\n",
       "      <td>38.884714</td>\n",
       "      <td>-76.927431</td>\n",
       "      <td>street_view_1.jpg</td>\n",
       "      <td>washington</td>\n",
       "    </tr>\n",
       "    <tr>\n",
       "      <th>2</th>\n",
       "      <td>42.367025</td>\n",
       "      <td>-83.115961</td>\n",
       "      <td>street_view_2.jpg</td>\n",
       "      <td>detroit</td>\n",
       "    </tr>\n",
       "    <tr>\n",
       "      <th>3</th>\n",
       "      <td>37.798462</td>\n",
       "      <td>-122.423526</td>\n",
       "      <td>street_view_3.jpg</td>\n",
       "      <td>san-francisco</td>\n",
       "    </tr>\n",
       "    <tr>\n",
       "      <th>4</th>\n",
       "      <td>41.699542</td>\n",
       "      <td>-87.690806</td>\n",
       "      <td>street_view_4.jpg</td>\n",
       "      <td>chicago</td>\n",
       "    </tr>\n",
       "    <tr>\n",
       "      <th>...</th>\n",
       "      <td>...</td>\n",
       "      <td>...</td>\n",
       "      <td>...</td>\n",
       "      <td>...</td>\n",
       "    </tr>\n",
       "    <tr>\n",
       "      <th>48948</th>\n",
       "      <td>40.586716</td>\n",
       "      <td>-74.092753</td>\n",
       "      <td>street_view_48948.jpg</td>\n",
       "      <td>city-of-new-york</td>\n",
       "    </tr>\n",
       "    <tr>\n",
       "      <th>48949</th>\n",
       "      <td>40.720343</td>\n",
       "      <td>-73.945508</td>\n",
       "      <td>street_view_48949.jpg</td>\n",
       "      <td>city-of-new-york</td>\n",
       "    </tr>\n",
       "    <tr>\n",
       "      <th>48950</th>\n",
       "      <td>41.785543</td>\n",
       "      <td>-87.638343</td>\n",
       "      <td>street_view_48950.jpg</td>\n",
       "      <td>chicago</td>\n",
       "    </tr>\n",
       "    <tr>\n",
       "      <th>48951</th>\n",
       "      <td>40.610056</td>\n",
       "      <td>-73.910862</td>\n",
       "      <td>street_view_48951.jpg</td>\n",
       "      <td>city-of-new-york</td>\n",
       "    </tr>\n",
       "    <tr>\n",
       "      <th>48952</th>\n",
       "      <td>42.419499</td>\n",
       "      <td>-83.157488</td>\n",
       "      <td>street_view_48952.jpg</td>\n",
       "      <td>detroit</td>\n",
       "    </tr>\n",
       "  </tbody>\n",
       "</table>\n",
       "<p>48953 rows × 4 columns</p>\n",
       "</div>"
      ],
      "text/plain": [
       "        Latitude   Longitude              file_name              City\n",
       "0      40.864413  -73.893292      street_view_0.jpg  city-of-new-york\n",
       "1      38.884714  -76.927431      street_view_1.jpg        washington\n",
       "2      42.367025  -83.115961      street_view_2.jpg           detroit\n",
       "3      37.798462 -122.423526      street_view_3.jpg     san-francisco\n",
       "4      41.699542  -87.690806      street_view_4.jpg           chicago\n",
       "...          ...         ...                    ...               ...\n",
       "48948  40.586716  -74.092753  street_view_48948.jpg  city-of-new-york\n",
       "48949  40.720343  -73.945508  street_view_48949.jpg  city-of-new-york\n",
       "48950  41.785543  -87.638343  street_view_48950.jpg           chicago\n",
       "48951  40.610056  -73.910862  street_view_48951.jpg  city-of-new-york\n",
       "48952  42.419499  -83.157488  street_view_48952.jpg           detroit\n",
       "\n",
       "[48953 rows x 4 columns]"
      ]
     },
     "execution_count": 16,
     "metadata": {},
     "output_type": "execute_result"
    }
   ],
   "source": [
    "# df = cords.copy() # can be used to get un-processed data frame\n",
    "df = cords.copy()\n",
    "df"
   ]
  },
  {
   "cell_type": "code",
   "execution_count": 17,
   "id": "19d9f717",
   "metadata": {
    "execution": {
     "iopub.execute_input": "2024-01-03T14:22:25.027703Z",
     "iopub.status.busy": "2024-01-03T14:22:25.026868Z",
     "iopub.status.idle": "2024-01-03T14:22:25.042135Z",
     "shell.execute_reply": "2024-01-03T14:22:25.041198Z"
    },
    "papermill": {
     "duration": 0.035536,
     "end_time": "2024-01-03T14:22:25.044201",
     "exception": false,
     "start_time": "2024-01-03T14:22:25.008665",
     "status": "completed"
    },
    "tags": []
   },
   "outputs": [
    {
     "data": {
      "text/plain": [
       "chicago             9971\n",
       "city-of-new-york    9838\n",
       "detroit             9809\n",
       "washington          9706\n",
       "san-francisco       9625\n",
       "Name: City, dtype: int64"
      ]
     },
     "execution_count": 17,
     "metadata": {},
     "output_type": "execute_result"
    }
   ],
   "source": [
    "# almost evenly distributed\n",
    "df['City'].value_counts()"
   ]
  },
  {
   "cell_type": "code",
   "execution_count": 18,
   "id": "b67989e1",
   "metadata": {
    "execution": {
     "iopub.execute_input": "2024-01-03T14:22:25.081425Z",
     "iopub.status.busy": "2024-01-03T14:22:25.081080Z",
     "iopub.status.idle": "2024-01-03T14:22:25.091710Z",
     "shell.execute_reply": "2024-01-03T14:22:25.090781Z"
    },
    "papermill": {
     "duration": 0.031735,
     "end_time": "2024-01-03T14:22:25.093800",
     "exception": false,
     "start_time": "2024-01-03T14:22:25.062065",
     "status": "completed"
    },
    "tags": []
   },
   "outputs": [
    {
     "data": {
      "text/plain": [
       "['city-of-new-york', 'washington', 'detroit', 'san-francisco', 'chicago', nan]"
      ]
     },
     "execution_count": 18,
     "metadata": {},
     "output_type": "execute_result"
    }
   ],
   "source": [
    "labels = list(df['City'].unique())\n",
    "labels"
   ]
  },
  {
   "cell_type": "code",
   "execution_count": 19,
   "id": "bbd76a39",
   "metadata": {
    "execution": {
     "iopub.execute_input": "2024-01-03T14:22:25.129823Z",
     "iopub.status.busy": "2024-01-03T14:22:25.129522Z",
     "iopub.status.idle": "2024-01-03T14:22:25.135559Z",
     "shell.execute_reply": "2024-01-03T14:22:25.134616Z"
    },
    "papermill": {
     "duration": 0.026523,
     "end_time": "2024-01-03T14:22:25.137728",
     "exception": false,
     "start_time": "2024-01-03T14:22:25.111205",
     "status": "completed"
    },
    "tags": []
   },
   "outputs": [
    {
     "data": {
      "text/plain": [
       "['city-of-new-york', 'washington', 'detroit', 'san-francisco', 'chicago']"
      ]
     },
     "execution_count": 19,
     "metadata": {},
     "output_type": "execute_result"
    }
   ],
   "source": [
    "labels = labels[:-1]\n",
    "labels"
   ]
  },
  {
   "cell_type": "code",
   "execution_count": 20,
   "id": "2a207cfd",
   "metadata": {
    "execution": {
     "iopub.execute_input": "2024-01-03T14:22:25.174003Z",
     "iopub.status.busy": "2024-01-03T14:22:25.173681Z",
     "iopub.status.idle": "2024-01-03T14:22:25.195941Z",
     "shell.execute_reply": "2024-01-03T14:22:25.195041Z"
    },
    "papermill": {
     "duration": 0.0441,
     "end_time": "2024-01-03T14:22:25.199223",
     "exception": false,
     "start_time": "2024-01-03T14:22:25.155123",
     "status": "completed"
    },
    "tags": []
   },
   "outputs": [
    {
     "name": "stdout",
     "output_type": "stream",
     "text": [
      "/kaggle/input/city-street-view-dataset/street_view_39053.jpg\n"
     ]
    },
    {
     "data": {
      "image/jpeg": "[encoded data removed]",
      "text/plain": [
       "<IPython.core.display.Image object>"
      ]
     },
     "execution_count": 20,
     "metadata": {},
     "output_type": "execute_result"
    }
   ],
   "source": [
    "# gets a random image\n",
    "random_df = df.sample()\n",
    "row = random_df['file_name']\n",
    "\n",
    "\n",
    "file = row.iloc[0]\n",
    "img_path = f'/kaggle/input/city-street-view-dataset/{file}'\n",
    "\n",
    "# output\n",
    "print(img_path)\n",
    "display.Image(img_path)"
   ]
  },
  {
   "cell_type": "markdown",
   "id": "a22dceb1",
   "metadata": {
    "papermill": {
     "duration": 0.019679,
     "end_time": "2024-01-03T14:22:25.238924",
     "exception": false,
     "start_time": "2024-01-03T14:22:25.219245",
     "status": "completed"
    },
    "tags": []
   },
   "source": [
    "<hr style=\"height:5em;background-color:#ff4754;\">\n",
    "\n",
    "# 3- `Data Splint`\n",
    "\n",
    "<hr style=\"height:1px;background-color:#ff4754;\">"
   ]
  },
  {
   "cell_type": "code",
   "execution_count": 21,
   "id": "d175362c",
   "metadata": {
    "execution": {
     "iopub.execute_input": "2024-01-03T14:22:25.280041Z",
     "iopub.status.busy": "2024-01-03T14:22:25.279614Z",
     "iopub.status.idle": "2024-01-03T14:22:25.284501Z",
     "shell.execute_reply": "2024-01-03T14:22:25.283451Z"
    },
    "papermill": {
     "duration": 0.028092,
     "end_time": "2024-01-03T14:22:25.286689",
     "exception": false,
     "start_time": "2024-01-03T14:22:25.258597",
     "status": "completed"
    },
    "tags": []
   },
   "outputs": [],
   "source": [
    "# to module to pre-pare data\n",
    "import os\n",
    "import shutil"
   ]
  },
  {
   "cell_type": "code",
   "execution_count": 22,
   "id": "3083d513",
   "metadata": {
    "execution": {
     "iopub.execute_input": "2024-01-03T14:22:25.327169Z",
     "iopub.status.busy": "2024-01-03T14:22:25.326791Z",
     "iopub.status.idle": "2024-01-03T14:22:25.331569Z",
     "shell.execute_reply": "2024-01-03T14:22:25.330623Z"
    },
    "papermill": {
     "duration": 0.027441,
     "end_time": "2024-01-03T14:22:25.333689",
     "exception": false,
     "start_time": "2024-01-03T14:22:25.306248",
     "status": "completed"
    },
    "tags": []
   },
   "outputs": [],
   "source": [
    "# VARIABLES\n",
    "\n",
    "# maximum number of image toselect from a city!\n",
    "CLASS_MAX = 1000\n",
    "CLASS_COUNT = {}\n",
    "\n",
    "\n",
    "# where to save classes?\n",
    "dest_data_dir = f\"./filtered_data_{CLASS_MAX}\"\n",
    "\n",
    "# where is raw(resized,recolored) images ?\n",
    "src_data_dir = \"/kaggle/input/city-street-view-dataset\""
   ]
  },
  {
   "cell_type": "code",
   "execution_count": 23,
   "id": "aee039c4",
   "metadata": {
    "execution": {
     "iopub.execute_input": "2024-01-03T14:22:25.374879Z",
     "iopub.status.busy": "2024-01-03T14:22:25.374070Z",
     "iopub.status.idle": "2024-01-03T14:22:25.380485Z",
     "shell.execute_reply": "2024-01-03T14:22:25.379507Z"
    },
    "papermill": {
     "duration": 0.029219,
     "end_time": "2024-01-03T14:22:25.382728",
     "exception": false,
     "start_time": "2024-01-03T14:22:25.353509",
     "status": "completed"
    },
    "tags": []
   },
   "outputs": [
    {
     "name": "stdout",
     "output_type": "stream",
     "text": [
      "./filtered_data_1000/city-of-new-york\n",
      "./filtered_data_1000/washington\n",
      "./filtered_data_1000/detroit\n",
      "./filtered_data_1000/san-francisco\n",
      "./filtered_data_1000/chicago\n"
     ]
    }
   ],
   "source": [
    "# create a class directory for each city-name\n",
    "for city_class in labels:\n",
    "    # create the path\n",
    "    class_dir = os.path.join(dest_data_dir,city_class)\n",
    "    print(class_dir)\n",
    "    \n",
    "    # now create a directory for each filtered city if not exist already!\n",
    "    os.makedirs(class_dir,exist_ok=True)"
   ]
  },
  {
   "cell_type": "code",
   "execution_count": 24,
   "id": "0b625824",
   "metadata": {
    "execution": {
     "iopub.execute_input": "2024-01-03T14:22:25.424757Z",
     "iopub.status.busy": "2024-01-03T14:22:25.423919Z",
     "iopub.status.idle": "2024-01-03T14:22:25.429755Z",
     "shell.execute_reply": "2024-01-03T14:22:25.428701Z"
    },
    "papermill": {
     "duration": 0.029374,
     "end_time": "2024-01-03T14:22:25.432021",
     "exception": false,
     "start_time": "2024-01-03T14:22:25.402647",
     "status": "completed"
    },
    "tags": []
   },
   "outputs": [
    {
     "name": "stdout",
     "output_type": "stream",
     "text": [
      "{'city-of-new-york': 0, 'washington': 0, 'detroit': 0, 'san-francisco': 0, 'chicago': 0}\n"
     ]
    }
   ],
   "source": [
    "for label in labels:\n",
    "    CLASS_COUNT[label] = 0\n",
    "print(CLASS_COUNT)"
   ]
  },
  {
   "cell_type": "code",
   "execution_count": 25,
   "id": "cd025e97",
   "metadata": {
    "execution": {
     "iopub.execute_input": "2024-01-03T14:22:25.472369Z",
     "iopub.status.busy": "2024-01-03T14:22:25.471999Z",
     "iopub.status.idle": "2024-01-03T14:22:54.724050Z",
     "shell.execute_reply": "2024-01-03T14:22:54.723050Z"
    },
    "papermill": {
     "duration": 29.274749,
     "end_time": "2024-01-03T14:22:54.726107",
     "exception": false,
     "start_time": "2024-01-03T14:22:25.451358",
     "status": "completed"
    },
    "tags": []
   },
   "outputs": [
    {
     "name": "stdout",
     "output_type": "stream",
     "text": [
      "{'city-of-new-york': 1001, 'washington': 1001, 'detroit': 1001, 'san-francisco': 1001, 'chicago': 1001}\n"
     ]
    }
   ],
   "source": [
    "\n",
    "for index, row in df.iterrows():\n",
    "    # extract file name\n",
    "    img_file,city_class = row['file_name'],row['City']\n",
    "    \n",
    "    # ** for handle where city_class is invalid **\n",
    "    if type(city_class) != type(''):\n",
    "        continue\n",
    "\n",
    "    # check is required cities are copied\n",
    "    if CLASS_COUNT[city_class] > CLASS_MAX:\n",
    "        continue\n",
    "    else:\n",
    "        CLASS_COUNT[city_class] += 1\n",
    "        \n",
    "    # select class directory based  on city name\n",
    "    # print(dest_data_dir, img_file,city_class)\n",
    "    class_dir = os.path.join(dest_data_dir,city_class)\n",
    "    \n",
    "    # define source & destination forlders\n",
    "    src_path = os.path.join(src_data_dir, img_file)\n",
    "    dst_path = os.path.join(class_dir, img_file)\n",
    "    \n",
    "    # print('src_path: ',src_path)\n",
    "    # print('dst_path: ',dst_path)\n",
    "    \n",
    "    # handle if src_path is invalid\n",
    "    if not os.path.exists(src_path):\n",
    "        print(f'{src_path} is not valid source path!')\n",
    "        break\n",
    "    else:\n",
    "        # print(f'{src_path} is valid')\n",
    "        pass\n",
    "\n",
    "    if os.path.exists(dst_path):\n",
    "        # print(f'[Ignored] - {dst_path} already exist')\n",
    "        pass\n",
    "    else:\n",
    "        # print(f'{dst_path} does not exisat')\n",
    "        shutil.copy(src_path, dst_path)\n",
    "        pass\n",
    "print(CLASS_COUNT)"
   ]
  },
  {
   "cell_type": "code",
   "execution_count": 26,
   "id": "98bfce15",
   "metadata": {
    "execution": {
     "iopub.execute_input": "2024-01-03T14:22:54.764372Z",
     "iopub.status.busy": "2024-01-03T14:22:54.763621Z",
     "iopub.status.idle": "2024-01-03T14:22:54.876002Z",
     "shell.execute_reply": "2024-01-03T14:22:54.874766Z"
    },
    "papermill": {
     "duration": 0.134328,
     "end_time": "2024-01-03T14:22:54.878711",
     "exception": false,
     "start_time": "2024-01-03T14:22:54.744383",
     "status": "completed"
    },
    "tags": []
   },
   "outputs": [],
   "source": [
    "import os\n",
    "from sklearn.model_selection import train_test_split"
   ]
  },
  {
   "cell_type": "code",
   "execution_count": 27,
   "id": "9e0032f1",
   "metadata": {
    "execution": {
     "iopub.execute_input": "2024-01-03T14:22:54.919722Z",
     "iopub.status.busy": "2024-01-03T14:22:54.918708Z",
     "iopub.status.idle": "2024-01-03T14:22:54.924786Z",
     "shell.execute_reply": "2024-01-03T14:22:54.923877Z"
    },
    "papermill": {
     "duration": 0.028046,
     "end_time": "2024-01-03T14:22:54.926811",
     "exception": false,
     "start_time": "2024-01-03T14:22:54.898765",
     "status": "completed"
    },
    "tags": []
   },
   "outputs": [
    {
     "data": {
      "text/plain": [
       "'./filtered_data_1000'"
      ]
     },
     "execution_count": 27,
     "metadata": {},
     "output_type": "execute_result"
    }
   ],
   "source": [
    "data_dir = dest_data_dir\n",
    "data_dir"
   ]
  },
  {
   "cell_type": "code",
   "execution_count": 28,
   "id": "b1e22803",
   "metadata": {
    "execution": {
     "iopub.execute_input": "2024-01-03T14:22:54.966549Z",
     "iopub.status.busy": "2024-01-03T14:22:54.965892Z",
     "iopub.status.idle": "2024-01-03T14:22:54.971963Z",
     "shell.execute_reply": "2024-01-03T14:22:54.970928Z"
    },
    "papermill": {
     "duration": 0.028073,
     "end_time": "2024-01-03T14:22:54.974016",
     "exception": false,
     "start_time": "2024-01-03T14:22:54.945943",
     "status": "completed"
    },
    "tags": []
   },
   "outputs": [
    {
     "name": "stdout",
     "output_type": "stream",
     "text": [
      "./filtered_data_1000/chicago\n",
      "./filtered_data_1000/city-of-new-york\n",
      "./filtered_data_1000/detroit\n",
      "./filtered_data_1000/san-francisco\n",
      "./filtered_data_1000/washington\n"
     ]
    }
   ],
   "source": [
    "# sub-dir for each class\n",
    "city_label_dirs = sorted([os.path.join(data_dir, d) for d in os.listdir(data_dir)])\n",
    "print(*city_label_dirs,sep='\\n')"
   ]
  },
  {
   "cell_type": "code",
   "execution_count": 29,
   "id": "9a8151b1",
   "metadata": {
    "execution": {
     "iopub.execute_input": "2024-01-03T14:22:55.012049Z",
     "iopub.status.busy": "2024-01-03T14:22:55.011716Z",
     "iopub.status.idle": "2024-01-03T14:22:55.015915Z",
     "shell.execute_reply": "2024-01-03T14:22:55.015056Z"
    },
    "papermill": {
     "duration": 0.025573,
     "end_time": "2024-01-03T14:22:55.018028",
     "exception": false,
     "start_time": "2024-01-03T14:22:54.992455",
     "status": "completed"
    },
    "tags": []
   },
   "outputs": [],
   "source": [
    "# image & label in different list\n",
    "images = []\n",
    "city_labels = []"
   ]
  },
  {
   "cell_type": "code",
   "execution_count": 30,
   "id": "ece4a329",
   "metadata": {
    "execution": {
     "iopub.execute_input": "2024-01-03T14:22:55.057225Z",
     "iopub.status.busy": "2024-01-03T14:22:55.056923Z",
     "iopub.status.idle": "2024-01-03T14:22:55.079903Z",
     "shell.execute_reply": "2024-01-03T14:22:55.079147Z"
    },
    "papermill": {
     "duration": 0.04512,
     "end_time": "2024-01-03T14:22:55.081940",
     "exception": false,
     "start_time": "2024-01-03T14:22:55.036820",
     "status": "completed"
    },
    "tags": []
   },
   "outputs": [],
   "source": [
    "# Loop through the class directories to get the images and labels\n",
    "for city_label_dir in city_label_dirs:\n",
    "    class_label = os.path.basename(city_label_dir)\n",
    "    for img_file in os.listdir(city_label_dir):\n",
    "        if img_file.endswith(\".jpg\"):\n",
    "            img_path = os.path.join(city_label_dir, img_file)\n",
    "            images.append(img_path)\n",
    "            city_labels.append(class_label)"
   ]
  },
  {
   "cell_type": "code",
   "execution_count": 31,
   "id": "2ec87ae7",
   "metadata": {
    "execution": {
     "iopub.execute_input": "2024-01-03T14:22:55.123317Z",
     "iopub.status.busy": "2024-01-03T14:22:55.122590Z",
     "iopub.status.idle": "2024-01-03T14:22:55.132545Z",
     "shell.execute_reply": "2024-01-03T14:22:55.131538Z"
    },
    "papermill": {
     "duration": 0.033402,
     "end_time": "2024-01-03T14:22:55.134808",
     "exception": false,
     "start_time": "2024-01-03T14:22:55.101406",
     "status": "completed"
    },
    "tags": []
   },
   "outputs": [
    {
     "name": "stdout",
     "output_type": "stream",
     "text": [
      "Number of training images: 4004\n",
      "Number of testing images: 1001\n",
      "./filtered_data_1000/san-francisco/street_view_1088.jpg\n",
      "./filtered_data_1000/san-francisco/street_view_1895.jpg\n",
      "./filtered_data_1000/san-francisco/street_view_4970.jpg\n",
      "./filtered_data_1000/city-of-new-york/street_view_831.jpg\n",
      "./filtered_data_1000/san-francisco/street_view_253.jpg\n",
      "./filtered_data_1000/detroit/street_view_575.jpg\n",
      "./filtered_data_1000/chicago/street_view_4774.jpg\n",
      "./filtered_data_1000/san-francisco/street_view_2547.jpg\n",
      "./filtered_data_1000/washington/street_view_4178.jpg\n",
      "./filtered_data_1000/city-of-new-york/street_view_2361.jpg\n"
     ]
    }
   ],
   "source": [
    "# split the data into training and testing sets\n",
    "\n",
    "train_images, test_images, train_labels, test_labels = train_test_split(\n",
    "    images, city_labels, test_size=0.2, random_state=42)\n",
    "\n",
    "# Print the size of each set\n",
    "print(f\"Number of training images: {len(train_images)}\")\n",
    "print(f\"Number of testing images: {len(test_images)}\")\n",
    "\n",
    "print(*train_images[:10], sep=\"\\n\")"
   ]
  },
  {
   "cell_type": "code",
   "execution_count": 32,
   "id": "2a6b0264",
   "metadata": {
    "execution": {
     "iopub.execute_input": "2024-01-03T14:22:55.175348Z",
     "iopub.status.busy": "2024-01-03T14:22:55.175042Z",
     "iopub.status.idle": "2024-01-03T14:22:55.179470Z",
     "shell.execute_reply": "2024-01-03T14:22:55.178550Z"
    },
    "papermill": {
     "duration": 0.027143,
     "end_time": "2024-01-03T14:22:55.181655",
     "exception": false,
     "start_time": "2024-01-03T14:22:55.154512",
     "status": "completed"
    },
    "tags": []
   },
   "outputs": [],
   "source": [
    "train_dir = os.path.join(data_dir, \"train\")\n",
    "test_dir = os.path.join(data_dir, \"test\")"
   ]
  },
  {
   "cell_type": "code",
   "execution_count": 33,
   "id": "cccc50a0",
   "metadata": {
    "execution": {
     "iopub.execute_input": "2024-01-03T14:22:55.222308Z",
     "iopub.status.busy": "2024-01-03T14:22:55.221936Z",
     "iopub.status.idle": "2024-01-03T14:22:55.226854Z",
     "shell.execute_reply": "2024-01-03T14:22:55.225890Z"
    },
    "papermill": {
     "duration": 0.027758,
     "end_time": "2024-01-03T14:22:55.228998",
     "exception": false,
     "start_time": "2024-01-03T14:22:55.201240",
     "status": "completed"
    },
    "tags": []
   },
   "outputs": [],
   "source": [
    "# create the directories if they do not exist for each ...\n",
    "os.makedirs(train_dir, exist_ok=True)\n",
    "os.makedirs(test_dir, exist_ok=True)"
   ]
  },
  {
   "cell_type": "code",
   "execution_count": 34,
   "id": "032986c0",
   "metadata": {
    "execution": {
     "iopub.execute_input": "2024-01-03T14:22:55.271592Z",
     "iopub.status.busy": "2024-01-03T14:22:55.270912Z",
     "iopub.status.idle": "2024-01-03T14:22:55.522492Z",
     "shell.execute_reply": "2024-01-03T14:22:55.521589Z"
    },
    "papermill": {
     "duration": 0.275515,
     "end_time": "2024-01-03T14:22:55.525048",
     "exception": false,
     "start_time": "2024-01-03T14:22:55.249533",
     "status": "completed"
    },
    "tags": []
   },
   "outputs": [],
   "source": [
    "# **on same dick, os.rename() faster**\n",
    "in_same_disk = True\n",
    "\n",
    "# run this once only\n",
    "move_now = True\n",
    "\n",
    "if move_now:\n",
    "    # move all train images\n",
    "    for img_file, label in zip(train_images, train_labels):\n",
    "        class_dir = os.path.join(train_dir, label)\n",
    "        os.makedirs(class_dir, exist_ok=True)\n",
    "\n",
    "        dst_path = os.path.join(class_dir, os.path.basename(img_file))\n",
    "\n",
    "        if not in_same_disk:\n",
    "            shutil.move(img_file, dst_path)\n",
    "        else:\n",
    "            os.rename(img_file, dst_path)\n",
    "\n",
    "    # move all test images\n",
    "    for img_file, label in zip(test_images, test_labels):\n",
    "        class_dir = os.path.join(test_dir, label)\n",
    "        os.makedirs(class_dir, exist_ok=True)\n",
    "\n",
    "        dst_path = os.path.join(class_dir, os.path.basename(img_file))\n",
    "\n",
    "        if not in_same_disk:\n",
    "            shutil.move(img_file, dst_path)\n",
    "        else:\n",
    "            os.rename(img_file, dst_path)\n",
    "else:\n",
    "    print('Done Already(probably)')"
   ]
  },
  {
   "cell_type": "code",
   "execution_count": 35,
   "id": "572894c5",
   "metadata": {
    "execution": {
     "iopub.execute_input": "2024-01-03T14:22:55.567094Z",
     "iopub.status.busy": "2024-01-03T14:22:55.566735Z",
     "iopub.status.idle": "2024-01-03T14:22:55.574656Z",
     "shell.execute_reply": "2024-01-03T14:22:55.573443Z"
    },
    "papermill": {
     "duration": 0.031405,
     "end_time": "2024-01-03T14:22:55.576843",
     "exception": false,
     "start_time": "2024-01-03T14:22:55.545438",
     "status": "completed"
    },
    "tags": []
   },
   "outputs": [
    {
     "name": "stdout",
     "output_type": "stream",
     "text": [
      "[Deleting] - ./filtered_data_1000/city-of-new-york\n",
      "[Deleting] - ./filtered_data_1000/washington\n",
      "[Deleting] - ./filtered_data_1000/detroit\n",
      "[Deleting] - ./filtered_data_1000/san-francisco\n",
      "[Deleting] - ./filtered_data_1000/chicago\n"
     ]
    }
   ],
   "source": [
    "# delete empty class  directories\n",
    "\n",
    "\n",
    "# create a class directory for each city-name\n",
    "for city_class in labels:\n",
    "\n",
    "    class_dir = os.path.join(dest_data_dir,city_class)\n",
    "\n",
    "    if os.path.exists(class_dir):\n",
    "        print(f'[Deleting] - {class_dir}')\n",
    "        \n",
    "        # will throw error if directory is not empty!\n",
    "        # in case if move_now = False, maybe images are  not cpied\n",
    "        os.rmdir(class_dir,)\n",
    "    else:\n",
    "        print(f'[Invalid path] - {class_dir} does not exist')"
   ]
  },
  {
   "cell_type": "code",
   "execution_count": null,
   "id": "d8d72db1",
   "metadata": {
    "papermill": {
     "duration": 0.020228,
     "end_time": "2024-01-03T14:22:55.617386",
     "exception": false,
     "start_time": "2024-01-03T14:22:55.597158",
     "status": "completed"
    },
    "tags": []
   },
   "outputs": [],
   "source": []
  },
  {
   "cell_type": "markdown",
   "id": "c34954ed",
   "metadata": {
    "papermill": {
     "duration": 0.020083,
     "end_time": "2024-01-03T14:22:55.657715",
     "exception": false,
     "start_time": "2024-01-03T14:22:55.637632",
     "status": "completed"
    },
    "tags": []
   },
   "source": [
    "<hr style=\"height:5em;background-color:#ff4754;\">\n",
    "\n",
    "#  1 - `Training` \n",
    "\n",
    "<hr style=\"height:1px;background-color:#ff4754;\">\n",
    "\n",
    "\n",
    "\n",
    "\n",
    "- importing all necessary module at top "
   ]
  },
  {
   "cell_type": "code",
   "execution_count": 36,
   "id": "d5d872ec",
   "metadata": {
    "execution": {
     "iopub.execute_input": "2024-01-03T14:22:55.699324Z",
     "iopub.status.busy": "2024-01-03T14:22:55.698920Z",
     "iopub.status.idle": "2024-01-03T14:22:55.704391Z",
     "shell.execute_reply": "2024-01-03T14:22:55.703397Z"
    },
    "papermill": {
     "duration": 0.028797,
     "end_time": "2024-01-03T14:22:55.706466",
     "exception": false,
     "start_time": "2024-01-03T14:22:55.677669",
     "status": "completed"
    },
    "tags": []
   },
   "outputs": [],
   "source": [
    "# importing library\n",
    "\n",
    "import torch\n",
    "import torch.nn as nn\n",
    "import torch.optim as optim\n",
    "from torchvision import datasets, models, transforms\n",
    "\n",
    "\n",
    "import warnings\n",
    "warnings.filterwarnings('ignore')"
   ]
  },
  {
   "cell_type": "code",
   "execution_count": 37,
   "id": "654bc10f",
   "metadata": {
    "execution": {
     "iopub.execute_input": "2024-01-03T14:22:55.749105Z",
     "iopub.status.busy": "2024-01-03T14:22:55.748771Z",
     "iopub.status.idle": "2024-01-03T14:22:55.754286Z",
     "shell.execute_reply": "2024-01-03T14:22:55.753279Z"
    },
    "papermill": {
     "duration": 0.028907,
     "end_time": "2024-01-03T14:22:55.756426",
     "exception": false,
     "start_time": "2024-01-03T14:22:55.727519",
     "status": "completed"
    },
    "tags": []
   },
   "outputs": [],
   "source": [
    "# define transforms to apply to the data\n",
    "\n",
    "transform = transforms.Compose([\n",
    "    transforms.Resize((224, 224)),\n",
    "    transforms.ToTensor(),\n",
    "    transforms.Normalize(mean=[0.485, 0.456, 0.406], std=[0.229, 0.224, 0.225])\n",
    "])"
   ]
  },
  {
   "cell_type": "code",
   "execution_count": 38,
   "id": "20f06d1b",
   "metadata": {
    "execution": {
     "iopub.execute_input": "2024-01-03T14:22:55.800403Z",
     "iopub.status.busy": "2024-01-03T14:22:55.799749Z",
     "iopub.status.idle": "2024-01-03T14:22:55.831531Z",
     "shell.execute_reply": "2024-01-03T14:22:55.830555Z"
    },
    "papermill": {
     "duration": 0.05696,
     "end_time": "2024-01-03T14:22:55.833773",
     "exception": false,
     "start_time": "2024-01-03T14:22:55.776813",
     "status": "completed"
    },
    "tags": []
   },
   "outputs": [],
   "source": [
    "# load the train and test data\n",
    "\n",
    "train_data = datasets.ImageFolder('filtered_data_1000/train', transform=transform)\n",
    "test_data = datasets.ImageFolder('filtered_data_1000/test', transform=transform)"
   ]
  },
  {
   "cell_type": "code",
   "execution_count": 39,
   "id": "a23b3cea",
   "metadata": {
    "execution": {
     "iopub.execute_input": "2024-01-03T14:22:55.875705Z",
     "iopub.status.busy": "2024-01-03T14:22:55.875123Z",
     "iopub.status.idle": "2024-01-03T14:22:56.363933Z",
     "shell.execute_reply": "2024-01-03T14:22:56.363057Z"
    },
    "papermill": {
     "duration": 0.512377,
     "end_time": "2024-01-03T14:22:56.366565",
     "exception": false,
     "start_time": "2024-01-03T14:22:55.854188",
     "status": "completed"
    },
    "tags": []
   },
   "outputs": [],
   "source": [
    "# define the model from builting models\n",
    "\n",
    "model = models.resnet34(pretrained=False)\n",
    "num_classes = len(train_data.classes)\n",
    "in_features = model.fc.in_features\n",
    "model.fc = nn.Linear(in_features, num_classes)"
   ]
  },
  {
   "cell_type": "code",
   "execution_count": 40,
   "id": "8a1beb7d",
   "metadata": {
    "execution": {
     "iopub.execute_input": "2024-01-03T14:22:56.409490Z",
     "iopub.status.busy": "2024-01-03T14:22:56.408696Z",
     "iopub.status.idle": "2024-01-03T14:22:56.414410Z",
     "shell.execute_reply": "2024-01-03T14:22:56.413487Z"
    },
    "papermill": {
     "duration": 0.029304,
     "end_time": "2024-01-03T14:22:56.416467",
     "exception": false,
     "start_time": "2024-01-03T14:22:56.387163",
     "status": "completed"
    },
    "tags": []
   },
   "outputs": [],
   "source": [
    "# trying with different optimizer\n",
    "\n",
    "optimizer = optim.Adam(model.parameters(), lr=0.001)\n",
    "# optimizer = optim.SGD(model.parameters(), lr=0.001, momentum=0.9)\n",
    "# optimizer = optim.Adagrad(model.parameters(), lr=0.01)"
   ]
  },
  {
   "cell_type": "code",
   "execution_count": 41,
   "id": "25e82fb3",
   "metadata": {
    "execution": {
     "iopub.execute_input": "2024-01-03T14:22:56.459984Z",
     "iopub.status.busy": "2024-01-03T14:22:56.459251Z",
     "iopub.status.idle": "2024-01-03T14:23:00.038346Z",
     "shell.execute_reply": "2024-01-03T14:23:00.037370Z"
    },
    "papermill": {
     "duration": 3.603986,
     "end_time": "2024-01-03T14:23:00.040618",
     "exception": false,
     "start_time": "2024-01-03T14:22:56.436632",
     "status": "completed"
    },
    "tags": []
   },
   "outputs": [
    {
     "data": {
      "text/plain": [
       "ResNet(\n",
       "  (conv1): Conv2d(3, 64, kernel_size=(7, 7), stride=(2, 2), padding=(3, 3), bias=False)\n",
       "  (bn1): BatchNorm2d(64, eps=1e-05, momentum=0.1, affine=True, track_running_stats=True)\n",
       "  (relu): ReLU(inplace=True)\n",
       "  (maxpool): MaxPool2d(kernel_size=3, stride=2, padding=1, dilation=1, ceil_mode=False)\n",
       "  (layer1): Sequential(\n",
       "    (0): BasicBlock(\n",
       "      (conv1): Conv2d(64, 64, kernel_size=(3, 3), stride=(1, 1), padding=(1, 1), bias=False)\n",
       "      (bn1): BatchNorm2d(64, eps=1e-05, momentum=0.1, affine=True, track_running_stats=True)\n",
       "      (relu): ReLU(inplace=True)\n",
       "      (conv2): Conv2d(64, 64, kernel_size=(3, 3), stride=(1, 1), padding=(1, 1), bias=False)\n",
       "      (bn2): BatchNorm2d(64, eps=1e-05, momentum=0.1, affine=True, track_running_stats=True)\n",
       "    )\n",
       "    (1): BasicBlock(\n",
       "      (conv1): Conv2d(64, 64, kernel_size=(3, 3), stride=(1, 1), padding=(1, 1), bias=False)\n",
       "      (bn1): BatchNorm2d(64, eps=1e-05, momentum=0.1, affine=True, track_running_stats=True)\n",
       "      (relu): ReLU(inplace=True)\n",
       "      (conv2): Conv2d(64, 64, kernel_size=(3, 3), stride=(1, 1), padding=(1, 1), bias=False)\n",
       "      (bn2): BatchNorm2d(64, eps=1e-05, momentum=0.1, affine=True, track_running_stats=True)\n",
       "    )\n",
       "    (2): BasicBlock(\n",
       "      (conv1): Conv2d(64, 64, kernel_size=(3, 3), stride=(1, 1), padding=(1, 1), bias=False)\n",
       "      (bn1): BatchNorm2d(64, eps=1e-05, momentum=0.1, affine=True, track_running_stats=True)\n",
       "      (relu): ReLU(inplace=True)\n",
       "      (conv2): Conv2d(64, 64, kernel_size=(3, 3), stride=(1, 1), padding=(1, 1), bias=False)\n",
       "      (bn2): BatchNorm2d(64, eps=1e-05, momentum=0.1, affine=True, track_running_stats=True)\n",
       "    )\n",
       "  )\n",
       "  (layer2): Sequential(\n",
       "    (0): BasicBlock(\n",
       "      (conv1): Conv2d(64, 128, kernel_size=(3, 3), stride=(2, 2), padding=(1, 1), bias=False)\n",
       "      (bn1): BatchNorm2d(128, eps=1e-05, momentum=0.1, affine=True, track_running_stats=True)\n",
       "      (relu): ReLU(inplace=True)\n",
       "      (conv2): Conv2d(128, 128, kernel_size=(3, 3), stride=(1, 1), padding=(1, 1), bias=False)\n",
       "      (bn2): BatchNorm2d(128, eps=1e-05, momentum=0.1, affine=True, track_running_stats=True)\n",
       "      (downsample): Sequential(\n",
       "        (0): Conv2d(64, 128, kernel_size=(1, 1), stride=(2, 2), bias=False)\n",
       "        (1): BatchNorm2d(128, eps=1e-05, momentum=0.1, affine=True, track_running_stats=True)\n",
       "      )\n",
       "    )\n",
       "    (1): BasicBlock(\n",
       "      (conv1): Conv2d(128, 128, kernel_size=(3, 3), stride=(1, 1), padding=(1, 1), bias=False)\n",
       "      (bn1): BatchNorm2d(128, eps=1e-05, momentum=0.1, affine=True, track_running_stats=True)\n",
       "      (relu): ReLU(inplace=True)\n",
       "      (conv2): Conv2d(128, 128, kernel_size=(3, 3), stride=(1, 1), padding=(1, 1), bias=False)\n",
       "      (bn2): BatchNorm2d(128, eps=1e-05, momentum=0.1, affine=True, track_running_stats=True)\n",
       "    )\n",
       "    (2): BasicBlock(\n",
       "      (conv1): Conv2d(128, 128, kernel_size=(3, 3), stride=(1, 1), padding=(1, 1), bias=False)\n",
       "      (bn1): BatchNorm2d(128, eps=1e-05, momentum=0.1, affine=True, track_running_stats=True)\n",
       "      (relu): ReLU(inplace=True)\n",
       "      (conv2): Conv2d(128, 128, kernel_size=(3, 3), stride=(1, 1), padding=(1, 1), bias=False)\n",
       "      (bn2): BatchNorm2d(128, eps=1e-05, momentum=0.1, affine=True, track_running_stats=True)\n",
       "    )\n",
       "    (3): BasicBlock(\n",
       "      (conv1): Conv2d(128, 128, kernel_size=(3, 3), stride=(1, 1), padding=(1, 1), bias=False)\n",
       "      (bn1): BatchNorm2d(128, eps=1e-05, momentum=0.1, affine=True, track_running_stats=True)\n",
       "      (relu): ReLU(inplace=True)\n",
       "      (conv2): Conv2d(128, 128, kernel_size=(3, 3), stride=(1, 1), padding=(1, 1), bias=False)\n",
       "      (bn2): BatchNorm2d(128, eps=1e-05, momentum=0.1, affine=True, track_running_stats=True)\n",
       "    )\n",
       "  )\n",
       "  (layer3): Sequential(\n",
       "    (0): BasicBlock(\n",
       "      (conv1): Conv2d(128, 256, kernel_size=(3, 3), stride=(2, 2), padding=(1, 1), bias=False)\n",
       "      (bn1): BatchNorm2d(256, eps=1e-05, momentum=0.1, affine=True, track_running_stats=True)\n",
       "      (relu): ReLU(inplace=True)\n",
       "      (conv2): Conv2d(256, 256, kernel_size=(3, 3), stride=(1, 1), padding=(1, 1), bias=False)\n",
       "      (bn2): BatchNorm2d(256, eps=1e-05, momentum=0.1, affine=True, track_running_stats=True)\n",
       "      (downsample): Sequential(\n",
       "        (0): Conv2d(128, 256, kernel_size=(1, 1), stride=(2, 2), bias=False)\n",
       "        (1): BatchNorm2d(256, eps=1e-05, momentum=0.1, affine=True, track_running_stats=True)\n",
       "      )\n",
       "    )\n",
       "    (1): BasicBlock(\n",
       "      (conv1): Conv2d(256, 256, kernel_size=(3, 3), stride=(1, 1), padding=(1, 1), bias=False)\n",
       "      (bn1): BatchNorm2d(256, eps=1e-05, momentum=0.1, affine=True, track_running_stats=True)\n",
       "      (relu): ReLU(inplace=True)\n",
       "      (conv2): Conv2d(256, 256, kernel_size=(3, 3), stride=(1, 1), padding=(1, 1), bias=False)\n",
       "      (bn2): BatchNorm2d(256, eps=1e-05, momentum=0.1, affine=True, track_running_stats=True)\n",
       "    )\n",
       "    (2): BasicBlock(\n",
       "      (conv1): Conv2d(256, 256, kernel_size=(3, 3), stride=(1, 1), padding=(1, 1), bias=False)\n",
       "      (bn1): BatchNorm2d(256, eps=1e-05, momentum=0.1, affine=True, track_running_stats=True)\n",
       "      (relu): ReLU(inplace=True)\n",
       "      (conv2): Conv2d(256, 256, kernel_size=(3, 3), stride=(1, 1), padding=(1, 1), bias=False)\n",
       "      (bn2): BatchNorm2d(256, eps=1e-05, momentum=0.1, affine=True, track_running_stats=True)\n",
       "    )\n",
       "    (3): BasicBlock(\n",
       "      (conv1): Conv2d(256, 256, kernel_size=(3, 3), stride=(1, 1), padding=(1, 1), bias=False)\n",
       "      (bn1): BatchNorm2d(256, eps=1e-05, momentum=0.1, affine=True, track_running_stats=True)\n",
       "      (relu): ReLU(inplace=True)\n",
       "      (conv2): Conv2d(256, 256, kernel_size=(3, 3), stride=(1, 1), padding=(1, 1), bias=False)\n",
       "      (bn2): BatchNorm2d(256, eps=1e-05, momentum=0.1, affine=True, track_running_stats=True)\n",
       "    )\n",
       "    (4): BasicBlock(\n",
       "      (conv1): Conv2d(256, 256, kernel_size=(3, 3), stride=(1, 1), padding=(1, 1), bias=False)\n",
       "      (bn1): BatchNorm2d(256, eps=1e-05, momentum=0.1, affine=True, track_running_stats=True)\n",
       "      (relu): ReLU(inplace=True)\n",
       "      (conv2): Conv2d(256, 256, kernel_size=(3, 3), stride=(1, 1), padding=(1, 1), bias=False)\n",
       "      (bn2): BatchNorm2d(256, eps=1e-05, momentum=0.1, affine=True, track_running_stats=True)\n",
       "    )\n",
       "    (5): BasicBlock(\n",
       "      (conv1): Conv2d(256, 256, kernel_size=(3, 3), stride=(1, 1), padding=(1, 1), bias=False)\n",
       "      (bn1): BatchNorm2d(256, eps=1e-05, momentum=0.1, affine=True, track_running_stats=True)\n",
       "      (relu): ReLU(inplace=True)\n",
       "      (conv2): Conv2d(256, 256, kernel_size=(3, 3), stride=(1, 1), padding=(1, 1), bias=False)\n",
       "      (bn2): BatchNorm2d(256, eps=1e-05, momentum=0.1, affine=True, track_running_stats=True)\n",
       "    )\n",
       "  )\n",
       "  (layer4): Sequential(\n",
       "    (0): BasicBlock(\n",
       "      (conv1): Conv2d(256, 512, kernel_size=(3, 3), stride=(2, 2), padding=(1, 1), bias=False)\n",
       "      (bn1): BatchNorm2d(512, eps=1e-05, momentum=0.1, affine=True, track_running_stats=True)\n",
       "      (relu): ReLU(inplace=True)\n",
       "      (conv2): Conv2d(512, 512, kernel_size=(3, 3), stride=(1, 1), padding=(1, 1), bias=False)\n",
       "      (bn2): BatchNorm2d(512, eps=1e-05, momentum=0.1, affine=True, track_running_stats=True)\n",
       "      (downsample): Sequential(\n",
       "        (0): Conv2d(256, 512, kernel_size=(1, 1), stride=(2, 2), bias=False)\n",
       "        (1): BatchNorm2d(512, eps=1e-05, momentum=0.1, affine=True, track_running_stats=True)\n",
       "      )\n",
       "    )\n",
       "    (1): BasicBlock(\n",
       "      (conv1): Conv2d(512, 512, kernel_size=(3, 3), stride=(1, 1), padding=(1, 1), bias=False)\n",
       "      (bn1): BatchNorm2d(512, eps=1e-05, momentum=0.1, affine=True, track_running_stats=True)\n",
       "      (relu): ReLU(inplace=True)\n",
       "      (conv2): Conv2d(512, 512, kernel_size=(3, 3), stride=(1, 1), padding=(1, 1), bias=False)\n",
       "      (bn2): BatchNorm2d(512, eps=1e-05, momentum=0.1, affine=True, track_running_stats=True)\n",
       "    )\n",
       "    (2): BasicBlock(\n",
       "      (conv1): Conv2d(512, 512, kernel_size=(3, 3), stride=(1, 1), padding=(1, 1), bias=False)\n",
       "      (bn1): BatchNorm2d(512, eps=1e-05, momentum=0.1, affine=True, track_running_stats=True)\n",
       "      (relu): ReLU(inplace=True)\n",
       "      (conv2): Conv2d(512, 512, kernel_size=(3, 3), stride=(1, 1), padding=(1, 1), bias=False)\n",
       "      (bn2): BatchNorm2d(512, eps=1e-05, momentum=0.1, affine=True, track_running_stats=True)\n",
       "    )\n",
       "  )\n",
       "  (avgpool): AdaptiveAvgPool2d(output_size=(1, 1))\n",
       "  (fc): Linear(in_features=512, out_features=5, bias=True)\n",
       ")"
      ]
     },
     "execution_count": 41,
     "metadata": {},
     "output_type": "execute_result"
    }
   ],
   "source": [
    "# Knwo about the sad life :(\n",
    "device = torch.device(\"cuda:0\" if torch.cuda.is_available() else \"cpu\")\n",
    "model.to(device)"
   ]
  },
  {
   "cell_type": "code",
   "execution_count": null,
   "id": "e62875be",
   "metadata": {
    "papermill": {
     "duration": 0.022937,
     "end_time": "2024-01-03T14:23:00.084203",
     "exception": false,
     "start_time": "2024-01-03T14:23:00.061266",
     "status": "completed"
    },
    "tags": []
   },
   "outputs": [],
   "source": []
  },
  {
   "cell_type": "code",
   "execution_count": null,
   "id": "c4e72873",
   "metadata": {
    "papermill": {
     "duration": 0.020128,
     "end_time": "2024-01-03T14:23:00.124997",
     "exception": false,
     "start_time": "2024-01-03T14:23:00.104869",
     "status": "completed"
    },
    "tags": []
   },
   "outputs": [],
   "source": []
  },
  {
   "cell_type": "code",
   "execution_count": null,
   "id": "b6ed4d77",
   "metadata": {
    "papermill": {
     "duration": 0.020294,
     "end_time": "2024-01-03T14:23:00.165670",
     "exception": false,
     "start_time": "2024-01-03T14:23:00.145376",
     "status": "completed"
    },
    "tags": []
   },
   "outputs": [],
   "source": []
  },
  {
   "cell_type": "code",
   "execution_count": 42,
   "id": "0d6b5f0a",
   "metadata": {
    "execution": {
     "iopub.execute_input": "2024-01-03T14:23:00.208099Z",
     "iopub.status.busy": "2024-01-03T14:23:00.207250Z",
     "iopub.status.idle": "2024-01-03T14:38:28.947459Z",
     "shell.execute_reply": "2024-01-03T14:38:28.946508Z"
    },
    "papermill": {
     "duration": 928.782302,
     "end_time": "2024-01-03T14:38:28.968224",
     "exception": false,
     "start_time": "2024-01-03T14:23:00.185922",
     "status": "completed"
    },
    "tags": []
   },
   "outputs": [
    {
     "name": "stdout",
     "output_type": "stream",
     "text": [
      "Epoch [1/5], Loss: 1.5036, Accuracy: 45.35%\n",
      "Epoch [2/5], Loss: 1.3329, Accuracy: 36.26%\n",
      "Epoch [3/5], Loss: 1.2606, Accuracy: 47.45%\n",
      "Epoch [4/5], Loss: 1.2254, Accuracy: 46.75%\n",
      "Epoch [5/5], Loss: 1.1612, Accuracy: 50.05%\n"
     ]
    }
   ],
   "source": [
    "# Train the model\n",
    "batch_size = 32\n",
    "num_epochs = 5\n",
    "train_loader = torch.utils.data.DataLoader(train_data, batch_size=batch_size, shuffle=True)\n",
    "test_loader = torch.utils.data.DataLoader(test_data, batch_size=batch_size, shuffle=False)\n",
    "criterion = nn.CrossEntropyLoss()\n",
    "\n",
    "for epoch in range(num_epochs):\n",
    "    # Train for one epoch\n",
    "    model.train()\n",
    "    running_loss = 0.0\n",
    "    for i, (inputs, labels) in enumerate(train_loader):\n",
    "        inputs, labels = inputs.to(device), labels.to(device)\n",
    "        optimizer.zero_grad()\n",
    "        outputs = model(inputs)\n",
    "        loss = criterion(outputs, labels)\n",
    "        loss.backward()\n",
    "        optimizer.step()\n",
    "        running_loss += loss.item() * inputs.size(0)\n",
    "    epoch_loss = running_loss / len(train_data)\n",
    "\n",
    "    # Evaluate on the test set\n",
    "    model.eval()\n",
    "    running_corrects = 0\n",
    "    for i, (inputs, labels) in enumerate(test_loader):\n",
    "        inputs, labels = inputs.to(device), labels.to(device)\n",
    "        with torch.no_grad():\n",
    "            outputs = model(inputs)\n",
    "            _, preds = torch.max(outputs, 1)\n",
    "        running_corrects += torch.sum(preds == labels.data)\n",
    "    epoch_acc = running_corrects.double() / len(test_data)\n",
    "\n",
    "    # Print the results for this epoch\n",
    "    print('Epoch [{}/{}], Loss: {:.4f}, Accuracy: {:.2f}%'\n",
    "          .format(epoch+1, num_epochs, epoch_loss, epoch_acc*100))"
   ]
  },
  {
   "cell_type": "code",
   "execution_count": 43,
   "id": "063c7f73",
   "metadata": {
    "execution": {
     "iopub.execute_input": "2024-01-03T14:38:29.006709Z",
     "iopub.status.busy": "2024-01-03T14:38:29.006404Z",
     "iopub.status.idle": "2024-01-03T14:38:29.142698Z",
     "shell.execute_reply": "2024-01-03T14:38:29.141770Z"
    },
    "papermill": {
     "duration": 0.158399,
     "end_time": "2024-01-03T14:38:29.145108",
     "exception": false,
     "start_time": "2024-01-03T14:38:28.986709",
     "status": "completed"
    },
    "tags": []
   },
   "outputs": [],
   "source": [
    "torch.save(model.state_dict(), \"./model-34.pt\")"
   ]
  },
  {
   "cell_type": "markdown",
   "id": "c8f35045",
   "metadata": {
    "papermill": {
     "duration": 0.018635,
     "end_time": "2024-01-03T14:38:29.182997",
     "exception": false,
     "start_time": "2024-01-03T14:38:29.164362",
     "status": "completed"
    },
    "tags": []
   },
   "source": [
    "<hr style=\"height:5em;background-color:#ff4754;\">\n",
    "\n",
    "#  2 - `Evaluation` \n",
    "\n",
    "<hr style=\"height:1px;background-color:#ff4754;\">"
   ]
  },
  {
   "cell_type": "code",
   "execution_count": 44,
   "id": "d06d49a2",
   "metadata": {
    "execution": {
     "iopub.execute_input": "2024-01-03T14:38:29.222820Z",
     "iopub.status.busy": "2024-01-03T14:38:29.222495Z",
     "iopub.status.idle": "2024-01-03T14:38:38.706442Z",
     "shell.execute_reply": "2024-01-03T14:38:38.705683Z"
    },
    "papermill": {
     "duration": 9.506744,
     "end_time": "2024-01-03T14:38:38.708811",
     "exception": false,
     "start_time": "2024-01-03T14:38:29.202067",
     "status": "completed"
    },
    "tags": []
   },
   "outputs": [],
   "source": [
    "import numpy as np\n",
    "import matplotlib.pyplot as plt\n",
    "from sklearn.metrics import f1_score, confusion_matrix, roc_curve, auc, precision_recall_curve\n",
    "\n",
    "# Define the device to use\n",
    "device = torch.device(\"cuda:0\" if torch.cuda.is_available() else \"cpu\")\n",
    "\n",
    "# Get the predicted labels and true labels for the test data\n",
    "y_pred = []\n",
    "y_true = []\n",
    "model.eval()\n",
    "with torch.no_grad():\n",
    "    for i, (inputs, labels) in enumerate(test_loader):\n",
    "        inputs, labels = inputs.to(device), labels.to(device)\n",
    "        outputs = model(inputs)\n",
    "        _, preds = torch.max(outputs, 1)\n",
    "        y_pred += preds.tolist()\n",
    "        y_true += labels.tolist()"
   ]
  },
  {
   "cell_type": "code",
   "execution_count": 45,
   "id": "7514c182",
   "metadata": {
    "execution": {
     "iopub.execute_input": "2024-01-03T14:38:38.748243Z",
     "iopub.status.busy": "2024-01-03T14:38:38.747900Z",
     "iopub.status.idle": "2024-01-03T14:38:38.762395Z",
     "shell.execute_reply": "2024-01-03T14:38:38.761206Z"
    },
    "papermill": {
     "duration": 0.03635,
     "end_time": "2024-01-03T14:38:38.764511",
     "exception": false,
     "start_time": "2024-01-03T14:38:38.728161",
     "status": "completed"
    },
    "tags": []
   },
   "outputs": [
    {
     "name": "stdout",
     "output_type": "stream",
     "text": [
      "F1 score: 0.5005034963369316\n"
     ]
    }
   ],
   "source": [
    "# Calculate the F1 score\n",
    "f1 = f1_score(y_true, y_pred, average='weighted')\n",
    "print('F1 score:', f1)"
   ]
  },
  {
   "cell_type": "code",
   "execution_count": 46,
   "id": "85b745ab",
   "metadata": {
    "execution": {
     "iopub.execute_input": "2024-01-03T14:38:38.804930Z",
     "iopub.status.busy": "2024-01-03T14:38:38.804678Z",
     "iopub.status.idle": "2024-01-03T14:38:39.108590Z",
     "shell.execute_reply": "2024-01-03T14:38:39.107670Z"
    },
    "papermill": {
     "duration": 0.325507,
     "end_time": "2024-01-03T14:38:39.110718",
     "exception": false,
     "start_time": "2024-01-03T14:38:38.785211",
     "status": "completed"
    },
    "tags": []
   },
   "outputs": [
    {
     "data": {
      "image/png": "[encoded data removed]",
      "text/plain": [
       "<Figure size 640x480 with 2 Axes>"
      ]
     },
     "metadata": {},
     "output_type": "display_data"
    }
   ],
   "source": [
    "# Calculate the confusion matrix\n",
    "cm = confusion_matrix(y_true, y_pred)\n",
    "\n",
    "# Define the color map\n",
    "cmap = plt.get_cmap('Blues')\n",
    "\n",
    "# Create the figure\n",
    "fig, ax = plt.subplots()\n",
    "im = ax.imshow(cm, cmap=cmap)\n",
    "\n",
    "# Add the color bar\n",
    "cbar = ax.figure.colorbar(im, ax=ax)\n",
    "\n",
    "# Add the labels\n",
    "ax.set(xticks=np.arange(cm.shape[1]),\n",
    "       yticks=np.arange(cm.shape[0]),\n",
    "       xticklabels=['Class 1', 'Class 2', 'Class 3','Class4',\"Class5\"], \n",
    "       yticklabels=['Class 1', 'Class 2', 'Class 3',\"Class4\",\"Class5\"],\n",
    "       title='Confusion Matrix',\n",
    "       ylabel='True label',\n",
    "       xlabel='Predicted label')\n",
    "\n",
    "\n",
    "# Rotate the xticks label\n",
    "plt.setp(ax.get_xticklabels(), rotation=45, ha=\"right\",\n",
    "         rotation_mode=\"anchor\")\n",
    "\n",
    "# Add the numbers to the heatmap\n",
    "for i in range(cm.shape[0]):\n",
    "    for j in range(cm.shape[1]):\n",
    "        ax.text(j, i, format(cm[i, j], 'd'),\n",
    "                ha=\"center\", va=\"center\",\n",
    "                color=\"white\" if cm[i, j] > cm.max() / 2. else \"black\")\n",
    "\n",
    "# Show the plot\n",
    "plt.show()"
   ]
  },
  {
   "cell_type": "code",
   "execution_count": 47,
   "id": "cec86dda",
   "metadata": {
    "execution": {
     "iopub.execute_input": "2024-01-03T14:38:39.150888Z",
     "iopub.status.busy": "2024-01-03T14:38:39.150585Z",
     "iopub.status.idle": "2024-01-03T14:38:39.340974Z",
     "shell.execute_reply": "2024-01-03T14:38:39.339878Z"
    },
    "papermill": {
     "duration": 0.213015,
     "end_time": "2024-01-03T14:38:39.343363",
     "exception": false,
     "start_time": "2024-01-03T14:38:39.130348",
     "status": "completed"
    },
    "tags": []
   },
   "outputs": [
    {
     "data": {
      "image/png": "[encoded data removed]",
      "text/plain": [
       "<Figure size 640x480 with 1 Axes>"
      ]
     },
     "metadata": {},
     "output_type": "display_data"
    }
   ],
   "source": [
    "# ploting the ROC curve\n",
    "\n",
    "fpr = {}\n",
    "tpr = {}\n",
    "roc_auc = {}\n",
    "for i in range(num_classes):\n",
    "    fpr[i], tpr[i], _ = roc_curve(np.array(y_true) == i, np.array(y_pred) == i)\n",
    "    roc_auc[i] = auc(fpr[i], tpr[i])\n",
    "\n",
    "plt.figure()\n",
    "plt.plot(fpr[0], tpr[0], color='darkorange', lw=2, label='ROC curve (area = %0.2f)' % roc_auc[0])\n",
    "plt.plot([0, 1], [0, 1], color='navy', lw=2, linestyle='--')\n",
    "plt.xlim([0.0, 1.0])\n",
    "plt.ylim([0.0, 1.05])\n",
    "plt.xlabel('False Positive Rate')\n",
    "plt.ylabel('True Positive Rate')\n",
    "plt.title('Receiver operating characteristic')\n",
    "plt.legend(loc=\"lower right\")\n",
    "plt.show()"
   ]
  },
  {
   "cell_type": "code",
   "execution_count": 48,
   "id": "f0f30a4d",
   "metadata": {
    "execution": {
     "iopub.execute_input": "2024-01-03T14:38:39.385994Z",
     "iopub.status.busy": "2024-01-03T14:38:39.385695Z",
     "iopub.status.idle": "2024-01-03T14:38:39.634707Z",
     "shell.execute_reply": "2024-01-03T14:38:39.633761Z"
    },
    "papermill": {
     "duration": 0.272128,
     "end_time": "2024-01-03T14:38:39.636716",
     "exception": false,
     "start_time": "2024-01-03T14:38:39.364588",
     "status": "completed"
    },
    "tags": []
   },
   "outputs": [
    {
     "data": {
      "image/png": "[encoded data removed]",
      "text/plain": [
       "<Figure size 640x480 with 1 Axes>"
      ]
     },
     "metadata": {},
     "output_type": "display_data"
    }
   ],
   "source": [
    "# ploting the precision-recall curve\n",
    "\n",
    "precision = {}\n",
    "recall = {}\n",
    "pr_auc = {}\n",
    "for i in range(num_classes):\n",
    "    precision[i], recall[i], _ = precision_recall_curve(np.array(y_true) == i, np.array(y_pred) == i)\n",
    "    pr_auc[i] = auc(recall[i], precision[i])\n",
    "\n",
    "plt.figure()\n",
    "plt.plot(recall[0], precision[0], color='darkorange', lw=2, label='PR curve (area = %0.2f)' % pr_auc[0])\n",
    "plt.xlim([0.0, 1.0])\n",
    "plt.ylim([0.0, 1.05])\n",
    "plt.xlabel('Recall')\n",
    "plt.ylabel('Precision')\n",
    "plt.title('Precision-Recall Curve')\n",
    "plt.legend(loc=\"lower right\")\n",
    "plt.show()"
   ]
  }
 ],
 "metadata": {
  "kaggle": {
   "accelerator": "nvidiaTeslaT4",
   "dataSources": [
    {
     "datasetId": 1953623,
     "sourceId": 3221159,
     "sourceType": "datasetVersion"
    },
    {
     "datasetId": 3261292,
     "sourceId": 5673026,
     "sourceType": "datasetVersion"
    }
   ],
   "dockerImageVersionId": 30476,
   "isGpuEnabled": true,
   "isInternetEnabled": true,
   "language": "python",
   "sourceType": "notebook"
  },
  "kernelspec": {
   "display_name": "Python 3",
   "language": "python",
   "name": "python3"
  },
  "language_info": {
   "codemirror_mode": {
    "name": "ipython",
    "version": 3
   },
   "file_extension": ".py",
   "mimetype": "text/x-python",
   "name": "python",
   "nbconvert_exporter": "python",
   "pygments_lexer": "ipython3",
   "version": "3.10.10"
  },
  "papermill": {
   "default_parameters": {},
   "duration": 1011.432224,
   "end_time": "2024-01-03T14:38:42.228700",
   "environment_variables": {},
   "exception": null,
   "input_path": "__notebook__.ipynb",
   "output_path": "__notebook__.ipynb",
   "parameters": {},
   "start_time": "2024-01-03T14:21:50.796476",
   "version": "2.4.0"
  }
 },
 "nbformat": 4,
 "nbformat_minor": 5
}
